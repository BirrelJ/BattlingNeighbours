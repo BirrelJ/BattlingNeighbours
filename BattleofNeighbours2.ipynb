{
 "cells": [
  {
   "cell_type": "markdown",
   "metadata": {},
   "source": [
    "# Capstone Project - The Battle of Neighbourhoods"
   ]
  },
  {
   "cell_type": "markdown",
   "metadata": {},
   "source": [
    "## Introduction\n",
    "In a the city of Glasgow, Scotland, identify the most likely location for a new restaurant.\n",
    "\n",
    "Choosing a location for any new restaurant is very important and, once chosen, can be expensive and time consuming to change later on.<br>\n",
    "Tips on how and where to start a new restaurant can be found on line (see example sites below), citing various factors to take into consideration when choosing the location of a new restaurant.<br>\n",
    "One of these factors is other venues in the area. The concensus being that siting a new restaurant in an untried location is a gamble but, equally, choosing a location with too many restaurants with the same concept can over saturate an area, leading to potential business failure.\n",
    "\n",
    "-  [How to Open a Restaurant, Part 2: Location, Location, Location](https://openforbusiness.opentable.com/features/how-to-open-a-restaurant-part-2-location-location-location/)\n",
    "-  [8 Factors for Choosing a New Restaurant Location](https://www.foodnewsfeed.com/fsr/vendor-bylines/8-factors-choosing-new-restaurant-location)\n",
    "-  [Tips on Where to Locate Your Restaurant](https://www.thebalancesmb.com/choosing-restaurant-location-2888543)"
   ]
  },
  {
   "cell_type": "markdown",
   "metadata": {},
   "source": [
    "## Business Problem\n",
    "\n",
    "Using cluster analysis on Foursquare location data can we assist a new restaurant owner to identify potential 'goldielocks' neighbourhoods that are both not untried nor over-saturated and, therefore, potentially viable locations for their new venture. \n",
    "\n",
    "For the purposes of this project, the value of oversaturation may need to be adjusted but will be initiated at 6 restaurants already in the same area.<br>\n",
    "Additional specialisation may be required to differentiate between different types of restaurant within a neighbourhood."
   ]
  },
  {
   "cell_type": "markdown",
   "metadata": {},
   "source": [
    "## Data Sources\n",
    "\n",
    "1. It will be necessary to obtain a list of neighbourhood names and associated postcodes.<br>\n",
    "These can be scraped from the Wikipedia page https://en.wikipedia.org/wiki/G_postcode_area<br>\n",
    "The data will need to be cleaned to remove un-necessary columns and extra text within the neighbourhoods field. There are also a few postcodes that are labeled 'non-geographic', which will also need to be removed from the dataset.<br>\n",
    "Finally, the data will be restricted to those postcodes that are within the local authority area of 'Glasgow City' as the other local authority areas would give to great an physical area in which to locate the new restaurant.\n",
    "\n",
    "2. Due to the buggy nature of geocoder, a CSV file for the longitudes and latitudes for each postcode will be manually generated and uploaded for use in this project.\n",
    "\n",
    "3. The [Foursquare](https://foursquare.com/developers/apps) location data will then be leveraged to identify and locate other venues in each of the neighbourhoods. This will be restricted to other restaurants and cafes as the objective is to recomment the location of a new restaurant."
   ]
  },
  {
   "cell_type": "code",
   "execution_count": null,
   "metadata": {},
   "outputs": [],
   "source": []
  }
 ],
 "metadata": {
  "kernelspec": {
   "display_name": "Python 3",
   "language": "python",
   "name": "python3"
  },
  "language_info": {
   "codemirror_mode": {
    "name": "ipython",
    "version": 3
   },
   "file_extension": ".py",
   "mimetype": "text/x-python",
   "name": "python",
   "nbconvert_exporter": "python",
   "pygments_lexer": "ipython3",
   "version": "3.6.6"
  }
 },
 "nbformat": 4,
 "nbformat_minor": 2
}
