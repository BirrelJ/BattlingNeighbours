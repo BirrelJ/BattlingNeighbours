{
 "cells": [
  {
   "cell_type": "markdown",
   "metadata": {},
   "source": [
    "# Capstone Project - The Battle of Neighbourhoods\n",
    "## Introduction\n",
    "In a the city of Glasgow, Scotland, identify the most likely location for a new restaurant.\n",
    "\n",
    "Choosing a location for any new restaurant is very important and, once chosen, can be expensive and time consuming to change later on.<br>\n",
    "Tips on how and where to start a new restaurant can be found on line (see example sites below), citing various factors to take into consideration when choosing the location of a new restaurant.<br>\n",
    "One of these factors is other venues in the area. The concensus being that siting a new restaurant in an untried location is a gamble but, equally, choosing a location with too many restaurants with the same concept can over saturate an area, leading to potential business failure.\n",
    "\n",
    "-  [How to Open a Restaurant, Part 2: Location, Location, Location](https://openforbusiness.opentable.com/features/how-to-open-a-restaurant-part-2-location-location-location/)\n",
    "-  [8 Factors for Choosing a New Restaurant Location](https://www.foodnewsfeed.com/fsr/vendor-bylines/8-factors-choosing-new-restaurant-location)\n",
    "-  [Tips on Where to Locate Your Restaurant](https://www.thebalancesmb.com/choosing-restaurant-location-2888543)\n",
    "\n",
    "Using cluster analysis on Foursquare location data can assist a new restaurant owner to identify potential 'goldielocks' neighbourhoods that are both not untried nor over-saturated and, therefore, potentially viable locations for their new venture. "
   ]
  },
  {
   "cell_type": "code",
   "execution_count": null,
   "metadata": {},
   "outputs": [],
   "source": []
  }
 ],
 "metadata": {
  "kernelspec": {
   "display_name": "Python 3",
   "language": "python",
   "name": "python3"
  },
  "language_info": {
   "codemirror_mode": {
    "name": "ipython",
    "version": 3
   },
   "file_extension": ".py",
   "mimetype": "text/x-python",
   "name": "python",
   "nbconvert_exporter": "python",
   "pygments_lexer": "ipython3",
   "version": "3.6.6"
  }
 },
 "nbformat": 4,
 "nbformat_minor": 2
}
